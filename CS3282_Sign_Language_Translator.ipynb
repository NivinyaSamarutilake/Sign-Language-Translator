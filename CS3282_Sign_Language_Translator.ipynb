{
  "cells": [
    {
      "cell_type": "markdown",
      "metadata": {
        "id": "view-in-github",
        "colab_type": "text"
      },
      "source": [
        "<a href=\"https://colab.research.google.com/github/NivinyaSamarutilake/Sign-Language-Translator/blob/main/CS3282_Sign_Language_Translator.ipynb\" target=\"_parent\"><img src=\"https://colab.research.google.com/assets/colab-badge.svg\" alt=\"Open In Colab\"/></a>"
      ]
    },
    {
      "cell_type": "code",
      "execution_count": null,
      "metadata": {
        "colab": {
          "base_uri": "https://localhost:8080/"
        },
        "id": "ViOfk0ZNE0sG",
        "outputId": "53e7b931-a8a7-4949-ccf0-7cb50d7b7390"
      },
      "outputs": [
        {
          "output_type": "stream",
          "name": "stdout",
          "text": [
            "Drive already mounted at /content/drive; to attempt to forcibly remount, call drive.mount(\"/content/drive\", force_remount=True).\n"
          ]
        }
      ],
      "source": [
        "from google.colab import drive\n",
        "drive.mount('/content/drive')"
      ]
    },
    {
      "cell_type": "code",
      "execution_count": null,
      "metadata": {
        "id": "BDtYo4S4HHdy"
      },
      "outputs": [],
      "source": [
        "\"\"\"Import the necessary libraries\"\"\"\n",
        "\n",
        "import matplotlib.pyplot as plt\n",
        "# import matplotlib.image as img\n",
        "import cv2\n",
        "import numpy as np\n",
        "# import PIL\n",
        "# import tensorflow as tf\n",
        "# import pandas as pd\n",
        "import os\n",
        "import string\n",
        "\n",
        "# from tensorflow import keras\n",
        "# from keras import layers\n",
        "# from keras.models import Sequential"
      ]
    },
    {
      "cell_type": "code",
      "execution_count": null,
      "metadata": {
        "colab": {
          "base_uri": "https://localhost:8080/"
        },
        "id": "upCkCORIGdq0",
        "outputId": "d0573f12-f637-4524-a443-09cb6e926127"
      },
      "outputs": [
        {
          "output_type": "stream",
          "name": "stdout",
          "text": [
            "[name: \"/device:CPU:0\"\n",
            "device_type: \"CPU\"\n",
            "memory_limit: 268435456\n",
            "locality {\n",
            "}\n",
            "incarnation: 299248944641482525\n",
            "xla_global_id: -1\n",
            ", name: \"/device:GPU:0\"\n",
            "device_type: \"GPU\"\n",
            "memory_limit: 14415560704\n",
            "locality {\n",
            "  bus_id: 1\n",
            "  links {\n",
            "  }\n",
            "}\n",
            "incarnation: 4280684837129411946\n",
            "physical_device_desc: \"device: 0, name: Tesla T4, pci bus id: 0000:00:04.0, compute capability: 7.5\"\n",
            "xla_global_id: 416903419\n",
            "]\n"
          ]
        }
      ],
      "source": [
        "# To check if GPU is active\n",
        "from tensorflow.python.client import device_lib\n",
        "\n",
        "print(device_lib.list_local_devices())"
      ]
    },
    {
      "cell_type": "code",
      "execution_count": null,
      "metadata": {
        "colab": {
          "base_uri": "https://localhost:8080/"
        },
        "id": "iFvqCsBgg5eD",
        "outputId": "dfe23602-4e82-42e9-8f0d-45124c5b6465"
      },
      "outputs": [
        {
          "output_type": "stream",
          "name": "stdout",
          "text": [
            "Image added :  A2628.jpg\n",
            "Image added :  A2712.jpg\n",
            "Image added :  A2853.jpg\n",
            "Image added :  A2788.jpg\n",
            "Image added :  A2630.jpg\n",
            "Image added :  A2786.jpg\n",
            "Image added :  A2862.jpg\n",
            "Image added :  A2798.jpg\n",
            "Image added :  A284.jpg\n",
            "Image added :  A2855.jpg\n",
            "Image added :  A2781.jpg\n",
            "Image added :  A2811.jpg\n",
            "Image added :  A270.jpg\n",
            "Image added :  A2787.jpg\n",
            "Image added :  A2883.jpg\n",
            "Image added :  A2774.jpg\n",
            "Image added :  A2808.jpg\n",
            "Image added :  A2697.jpg\n",
            "Image added :  A2645.jpg\n",
            "Image added :  A2815.jpg\n",
            "Image added :  A2852.jpg\n",
            "Image added :  A2675.jpg\n",
            "Image added :  A2694.jpg\n",
            "Image added :  A279.jpg\n",
            "Image added :  A2723.jpg\n",
            "Image added :  A2717.jpg\n",
            "Image added :  A2681.jpg\n",
            "Image added :  A2685.jpg\n",
            "Image added :  A2736.jpg\n",
            "Image added :  A2744.jpg\n"
          ]
        },
        {
          "output_type": "error",
          "ename": "KeyboardInterrupt",
          "evalue": "ignored",
          "traceback": [
            "\u001b[0;31m---------------------------------------------------------------------------\u001b[0m",
            "\u001b[0;31mKeyboardInterrupt\u001b[0m                         Traceback (most recent call last)",
            "\u001b[0;32m<ipython-input-2-8b577bb74050>\u001b[0m in \u001b[0;36m<module>\u001b[0;34m\u001b[0m\n\u001b[1;32m     16\u001b[0m \u001b[0;34m\u001b[0m\u001b[0m\n\u001b[1;32m     17\u001b[0m     \u001b[0;31m# read the image at file_path\u001b[0m\u001b[0;34m\u001b[0m\u001b[0;34m\u001b[0m\u001b[0;34m\u001b[0m\u001b[0m\n\u001b[0;32m---> 18\u001b[0;31m     \u001b[0mimageMat\u001b[0m \u001b[0;34m=\u001b[0m \u001b[0mcv2\u001b[0m\u001b[0;34m.\u001b[0m\u001b[0mimread\u001b[0m\u001b[0;34m(\u001b[0m\u001b[0mfile_path\u001b[0m\u001b[0;34m)\u001b[0m\u001b[0;34m\u001b[0m\u001b[0;34m\u001b[0m\u001b[0m\n\u001b[0m\u001b[1;32m     19\u001b[0m     \u001b[0mimageMat_resized\u001b[0m \u001b[0;34m=\u001b[0m \u001b[0mcv2\u001b[0m\u001b[0;34m.\u001b[0m\u001b[0mresize\u001b[0m\u001b[0;34m(\u001b[0m\u001b[0mimageMat\u001b[0m\u001b[0;34m,\u001b[0m \u001b[0;34m(\u001b[0m\u001b[0;36m32\u001b[0m\u001b[0;34m,\u001b[0m\u001b[0;36m32\u001b[0m\u001b[0;34m)\u001b[0m\u001b[0;34m)\u001b[0m\u001b[0;34m\u001b[0m\u001b[0;34m\u001b[0m\u001b[0m\n\u001b[1;32m     20\u001b[0m \u001b[0;34m\u001b[0m\u001b[0m\n",
            "\u001b[0;31mKeyboardInterrupt\u001b[0m: "
          ]
        }
      ],
      "source": [
        "path_to_folder = '../content/drive/MyDrive/dataset/asl_alphabet_train/asl_alphabet_train'\n",
        "\n",
        "characters = list(string.ascii_uppercase) + ['del', 'nothing', 'space']\n",
        "\n",
        "dataset_np = np.empty([87000, 3073])\n",
        "\n",
        "_,dirs,_ = next(os.walk(path_to_folder))\n",
        "\n",
        "count = 0\n",
        "for i in dirs:\n",
        "  path = os.path.join(path_to_folder, i)\n",
        "  files = np.asarray(os.listdir(path))\n",
        "\n",
        "  for j in files:\n",
        "    file_path = os.path.join(path, j)\n",
        "\n",
        "    # read the image at file_path\n",
        "    imageMat = cv2.imread(file_path)\n",
        "    imageMat_resized = cv2.resize(imageMat, (32,32))\n",
        "\n",
        "    # The images are RGB - therefore 400,000 x 3 values are there\n",
        "    # Let's reshape it from 3D matrix to 1D matrix\n",
        "    imageMat_flat = imageMat_resized.ravel()\n",
        "\n",
        "    # Insert the label of the image at 0th index\n",
        "    imageMat_flat = np.insert(imageMat_flat, 0, characters.index(i))\n",
        "\n",
        "    # Append to the above np array\n",
        "    dataset_np[count] = imageMat_flat\n",
        "    print('Image added : ', j)\n",
        "    count += 1\n",
        "\n",
        "print(dataset_np.shape)\n",
        "print(dataset_np[9])\n",
        "print(dataset_np[990])\n",
        "print(dataset_np[21830])\n",
        "print(dataset_np[86999])"
      ]
    },
    {
      "cell_type": "code",
      "execution_count": null,
      "metadata": {
        "colab": {
          "base_uri": "https://localhost:8080/"
        },
        "id": "N78MtB42LHWB",
        "outputId": "09d541cf-e99f-4fe2-e102-06d934bb40e3"
      },
      "outputs": [
        {
          "output_type": "stream",
          "name": "stdout",
          "text": [
            "60900\n",
            "17400\n",
            "8700\n"
          ]
        }
      ],
      "source": [
        "\"\"\"Get np arrays for all batches. Split each array into train, validation and test sets.\n",
        "   Append those sets into a larger sets which contain all train, validation and test sets.\n",
        "   Dataset will be split 70% training, 15% validation and 15% testing. \"\"\"\n",
        "\n",
        "from sklearn.model_selection import train_test_split\n",
        "\n",
        "# batch_file = 'Batch2.txt'\n",
        "# batch_data = get_batch_nparray(batch_file)\n",
        "X_train = dataset_np[:, 1:] / 255\n",
        "y_train = dataset_np[:, 0]\n",
        "X_train, X_test, y_train, y_test = train_test_split(X_train, y_train, test_size = 0.1, random_state = 12345)\n",
        "X_train, X_validate, y_train, y_validate = train_test_split(X_train, y_train, test_size = 0.22222, random_state = 12345)\n",
        "\n",
        "print(len(X_train))\n",
        "print(len(X_validate))\n",
        "print(len(X_test))"
      ]
    },
    {
      "cell_type": "code",
      "execution_count": null,
      "metadata": {
        "colab": {
          "base_uri": "https://localhost:8080/",
          "height": 281
        },
        "id": "tkPCLmrkCFxW",
        "outputId": "4febf162-38c1-4f56-bce9-0458b1607198"
      },
      "outputs": [
        {
          "output_type": "display_data",
          "data": {
            "text/plain": [
              "<Figure size 432x288 with 1 Axes>"
            ],
            "image/png": "[encoded data removed]"
          },
          "metadata": {
            "needs_background": "light"
          }
        }
      ],
      "source": [
        "\"Visualize data into image\"\n",
        "def visualize_data(num, belonging_set_X, belonging_set_y):\n",
        "  matrix = belonging_set_X[num]*255\n",
        "  matrix_rshp = matrix.reshape((32,32,3))\n",
        "  plt.imshow(matrix_rshp.astype('uint8'))\n",
        "  label = characters[int(belonging_set_y[num])]\n",
        "  plt.title(label)\n",
        "  return\n",
        "\n",
        "visualize_data(3567, X_train, y_train)"
      ]
    },
    {
      "cell_type": "code",
      "execution_count": null,
      "metadata": {
        "id": "iDAFssMtRT6i"
      },
      "outputs": [],
      "source": [
        "\"\"\"Read the csv file for dataset\n",
        "    This code creates RAM overflow. Not efficient.\"\"\"\n",
        "df = pd.read_csv('../content/drive/MyDrive/csv_dataset.csv')\n",
        "print(df.shape)"
      ]
    },
    {
      "cell_type": "code",
      "execution_count": null,
      "metadata": {
        "colab": {
          "base_uri": "https://localhost:8080/"
        },
        "id": "BXVlVWICMQtf",
        "outputId": "916f15e0-14e9-4ba7-ceff-42c4d2858e47"
      },
      "outputs": [
        {
          "output_type": "stream",
          "name": "stdout",
          "text": [
            "(60900, 32, 32, 3)\n",
            "(60900,)\n",
            "(17400, 32, 32, 3)\n"
          ]
        }
      ],
      "source": [
        "\"\"\"Reshape the test, train and validation sets\"\"\"\n",
        "# Unpack the training and test tuple\n",
        "X_train = X_train.reshape(X_train.shape[0], *(32, 32, 3))\n",
        "X_test = X_test.reshape(X_test.shape[0], *(32, 32, 3))\n",
        "X_validate = X_validate.reshape(X_validate.shape[0], *(32, 32, 3))\n",
        "\n",
        "print(X_train.shape)\n",
        "print(y_train.shape)\n",
        "print(X_validate.shape)\n"
      ]
    },
    {
      "cell_type": "code",
      "execution_count": null,
      "metadata": {
        "colab": {
          "base_uri": "https://localhost:8080/"
        },
        "id": "Mi9FLMWxzn6L",
        "outputId": "10fb57b9-b815-4237-98ee-e32a53e0f1d4"
      },
      "outputs": [
        {
          "output_type": "stream",
          "name": "stdout",
          "text": [
            "Model: \"sequential\"\n",
            "_________________________________________________________________\n",
            " Layer (type)                Output Shape              Param #   \n",
            "=================================================================\n",
            " conv2d (Conv2D)             (None, 30, 30, 32)        896       \n",
            "                                                                 \n",
            " max_pooling2d (MaxPooling2D  (None, 15, 15, 32)       0         \n",
            " )                                                               \n",
            "                                                                 \n",
            " dropout (Dropout)           (None, 15, 15, 32)        0         \n",
            "                                                                 \n",
            " conv2d_1 (Conv2D)           (None, 13, 13, 64)        18496     \n",
            "                                                                 \n",
            " max_pooling2d_1 (MaxPooling  (None, 6, 6, 64)         0         \n",
            " 2D)                                                             \n",
            "                                                                 \n",
            " dropout_1 (Dropout)         (None, 6, 6, 64)          0         \n",
            "                                                                 \n",
            " conv2d_2 (Conv2D)           (None, 4, 4, 128)         73856     \n",
            "                                                                 \n",
            " max_pooling2d_2 (MaxPooling  (None, 2, 2, 128)        0         \n",
            " 2D)                                                             \n",
            "                                                                 \n",
            " dropout_2 (Dropout)         (None, 2, 2, 128)         0         \n",
            "                                                                 \n",
            " flatten (Flatten)           (None, 512)               0         \n",
            "                                                                 \n",
            " dropout_3 (Dropout)         (None, 512)               0         \n",
            "                                                                 \n",
            " dense (Dense)               (None, 1024)              525312    \n",
            "                                                                 \n",
            " dense_1 (Dense)             (None, 29)                29725     \n",
            "                                                                 \n",
            "=================================================================\n",
            "Total params: 648,285\n",
            "Trainable params: 648,285\n",
            "Non-trainable params: 0\n",
            "_________________________________________________________________\n"
          ]
        }
      ],
      "source": [
        "\"\"\"Base CNN model\"\"\"\n",
        "\n",
        "import keras\n",
        "from keras.models import Sequential\n",
        "from keras.layers import Conv2D, MaxPooling2D, Dense, Flatten, Dropout\n",
        "from keras.optimizers import Adam\n",
        "from keras.callbacks import TensorBoard\n",
        "\n",
        "#Defining the Convolutional Neural Network\n",
        "cnn_model = Sequential()\n",
        "\n",
        "cnn_model.add(Conv2D(32, (3, 3), input_shape = (32, 32, 3), activation='relu'))\n",
        "cnn_model.add(MaxPooling2D(pool_size = (2, 2)))\n",
        "cnn_model.add(Dropout(0.25))\n",
        "\n",
        "cnn_model.add(Conv2D(64, (3, 3), input_shape = (32, 32, 3), activation='relu'))\n",
        "cnn_model.add(MaxPooling2D(pool_size = (2, 2)))\n",
        "cnn_model.add(Dropout(0.25))\n",
        "\n",
        "cnn_model.add(Conv2D(128, (3, 3), input_shape = (32, 32, 3), activation='relu'))\n",
        "cnn_model.add(MaxPooling2D(pool_size = (2, 2)))\n",
        "cnn_model.add(Dropout(0.25))\n",
        "\n",
        "cnn_model.add(Flatten())\n",
        "\n",
        "cnn_model.add(Dropout(0.2))\n",
        "cnn_model.add(Dense(1024, activation='relu'))\n",
        "cnn_model.add(Dense(29, activation='softmax'))\n",
        "\n",
        "#CNN Model Summary\n",
        "cnn_model.summary()"
      ]
    },
    {
      "cell_type": "code",
      "execution_count": null,
      "metadata": {
        "colab": {
          "base_uri": "https://localhost:8080/"
        },
        "id": "KhjLAX2-_aPu",
        "outputId": "f2766012-bdbb-4497-ae56-3e6180bb287d"
      },
      "outputs": [
        {
          "output_type": "stream",
          "name": "stdout",
          "text": [
            "Epoch 1/15\n",
            "1904/1904 [==============================] - 140s 73ms/step - loss: 1.3735 - accuracy: 0.5644 - val_loss: 0.4069 - val_accuracy: 0.8556\n",
            "Epoch 2/15\n",
            "1904/1904 [==============================] - 129s 68ms/step - loss: 0.4688 - accuracy: 0.8384 - val_loss: 0.1573 - val_accuracy: 0.9551\n",
            "Epoch 3/15\n",
            "1904/1904 [==============================] - 134s 70ms/step - loss: 0.3157 - accuracy: 0.8897 - val_loss: 0.0930 - val_accuracy: 0.9701\n",
            "Epoch 4/15\n",
            "1904/1904 [==============================] - 131s 69ms/step - loss: 0.2473 - accuracy: 0.9139 - val_loss: 0.0722 - val_accuracy: 0.9772\n",
            "Epoch 5/15\n",
            "1904/1904 [==============================] - 130s 68ms/step - loss: 0.2123 - accuracy: 0.9262 - val_loss: 0.0459 - val_accuracy: 0.9857\n",
            "Epoch 6/15\n",
            "1904/1904 [==============================] - 134s 70ms/step - loss: 0.1826 - accuracy: 0.9367 - val_loss: 0.0379 - val_accuracy: 0.9875\n",
            "Epoch 7/15\n",
            "1904/1904 [==============================] - 129s 68ms/step - loss: 0.1662 - accuracy: 0.9427 - val_loss: 0.0301 - val_accuracy: 0.9904\n",
            "Epoch 8/15\n",
            "1904/1904 [==============================] - 129s 68ms/step - loss: 0.1621 - accuracy: 0.9456 - val_loss: 0.0256 - val_accuracy: 0.9925\n",
            "Epoch 9/15\n",
            "1904/1904 [==============================] - 133s 70ms/step - loss: 0.1520 - accuracy: 0.9488 - val_loss: 0.0242 - val_accuracy: 0.9923\n",
            "Epoch 10/15\n",
            "1904/1904 [==============================] - 129s 68ms/step - loss: 0.1439 - accuracy: 0.9533 - val_loss: 0.0255 - val_accuracy: 0.9937\n",
            "Epoch 11/15\n",
            "1904/1904 [==============================] - 155s 81ms/step - loss: 0.1336 - accuracy: 0.9556 - val_loss: 0.0187 - val_accuracy: 0.9954\n",
            "Epoch 12/15\n",
            "1904/1904 [==============================] - 147s 77ms/step - loss: 0.1305 - accuracy: 0.9566 - val_loss: 0.0188 - val_accuracy: 0.9944\n",
            "Epoch 13/15\n",
            "1904/1904 [==============================] - 154s 81ms/step - loss: 0.1235 - accuracy: 0.9598 - val_loss: 0.0194 - val_accuracy: 0.9959\n",
            "Epoch 14/15\n",
            "1904/1904 [==============================] - 139s 73ms/step - loss: 0.1244 - accuracy: 0.9599 - val_loss: 0.0148 - val_accuracy: 0.9960\n",
            "Epoch 15/15\n",
            "1904/1904 [==============================] - 131s 69ms/step - loss: 0.1176 - accuracy: 0.9613 - val_loss: 0.0170 - val_accuracy: 0.9946\n"
          ]
        }
      ],
      "source": [
        "cnn_model.compile(loss ='sparse_categorical_crossentropy', optimizer='adam' ,metrics =['accuracy'])\n",
        "\n",
        "#Training the CNN model\n",
        "history = cnn_model.fit(X_train, y_train, batch_size = 32, epochs = 15, verbose = 1, validation_data = (X_validate, y_validate))"
      ]
    },
    {
      "cell_type": "code",
      "execution_count": null,
      "metadata": {
        "colab": {
          "base_uri": "https://localhost:8080/",
          "height": 279
        },
        "id": "AZ2hFBz0a2S8",
        "outputId": "6934acdd-1232-4d81-9cc3-af14fc773531"
      },
      "outputs": [
        {
          "output_type": "execute_result",
          "data": {
            "text/plain": [
              "Text(0.5, 1.0, 'Accuracy evolution')"
            ]
          },
          "metadata": {},
          "execution_count": 11
        },
        {
          "output_type": "display_data",
          "data": {
            "text/plain": [
              "<Figure size 864x576 with 2 Axes>"
            ],
            "image/png": "[encoded data removed]"
          },
          "metadata": {
            "needs_background": "light"
          }
        }
      ],
      "source": [
        "#Visualizing the training performance\n",
        "plt.figure(figsize=(12, 8))\n",
        "\n",
        "plt.subplot(2, 2, 1)\n",
        "plt.plot(history.history['loss'], label='Loss')\n",
        "plt.plot(history.history['val_loss'], label='val_Loss')\n",
        "plt.legend()\n",
        "plt.grid()\n",
        "plt.title('Loss evolution')\n",
        "\n",
        "plt.subplot(2, 2, 2)\n",
        "plt.plot(history.history['accuracy'], label='accuracy')\n",
        "plt.plot(history.history['val_accuracy'], label='val_accuracy')\n",
        "plt.legend()\n",
        "plt.grid()\n",
        "plt.title('Accuracy evolution')"
      ]
    },
    {
      "cell_type": "code",
      "execution_count": null,
      "metadata": {
        "colab": {
          "base_uri": "https://localhost:8080/"
        },
        "id": "AgKNCD3Ma9Cm",
        "outputId": "15b906b7-b28b-4165-a05c-f41105d921b0"
      },
      "outputs": [
        {
          "output_type": "stream",
          "name": "stdout",
          "text": [
            "272/272 [==============================] - 5s 18ms/step\n",
            "Test accuracy: 0.9942528605461121\n",
            "Test loss: 0.018609102815389633\n"
          ]
        }
      ],
      "source": [
        "#Predictions for the test data\n",
        "from sklearn.metrics import precision_score\n",
        "from sklearn.metrics import recall_score\n",
        "from sklearn.metrics import classification_report\n",
        "from keras import backend as K\n",
        "\n",
        "def recall_m(y_true, y_pred):\n",
        "    true_positives = K.sum(K.round(K.clip(y_true * y_pred, 0, 1)))\n",
        "    possible_positives = K.sum(K.round(K.clip(y_true, 0, 1)))\n",
        "    recall = true_positives / (possible_positives + K.epsilon())\n",
        "    return recall\n",
        "\n",
        "predictions = cnn_model.predict(X_test)\n",
        "test_loss, test_acc = cnn_model.evaluate(X_test, y_test, verbose=0)\n",
        "\n",
        "\n",
        "print('Test accuracy:', test_acc)\n",
        "print('Test loss:', test_loss)\n",
        "# print('Test precision: ', test_precision)\n",
        "# print('Recall: ', recall_m(y_test, predictions))\n",
        "# print(classification_report(y_test, predictions))"
      ]
    },
    {
      "cell_type": "code",
      "source": [
        "keras.models.save_model(cnn_model, 'model.pbtxt')\n",
        "converter = tensorflow.lite.TFLiteConverter.from_keras_model(model=cnn_model)\n",
        "model_tflite = converter.convert()\n",
        "open('signLanguageRecognitionModel.tflite', 'wb').write(model_tflite)"
      ],
      "metadata": {
        "id": "BPE1HBE3aZdU"
      },
      "execution_count": null,
      "outputs": []
    },
    {
      "cell_type": "code",
      "source": [
        "tf.keras.utils.plot_model(cnn_model, to_file='model.png', show_shapes=True, show_dtype=False,show_layer_names=True, rankdir='TB', expand_nested=False, dpi=72,layer_range=None, show_layer_activations=False)\n"
      ],
      "metadata": {
        "colab": {
          "base_uri": "https://localhost:8080/",
          "height": 182
        },
        "id": "xQhrfNAAKPbR",
        "outputId": "3fa63952-3d8a-484b-e253-0606b239d18c"
      },
      "execution_count": null,
      "outputs": [
        {
          "output_type": "error",
          "ename": "NameError",
          "evalue": "ignored",
          "traceback": [
            "\u001b[0;31m---------------------------------------------------------------------------\u001b[0m",
            "\u001b[0;31mNameError\u001b[0m                                 Traceback (most recent call last)",
            "\u001b[0;32m<ipython-input-1-726318f5c5ca>\u001b[0m in \u001b[0;36m<module>\u001b[0;34m\u001b[0m\n\u001b[0;32m----> 1\u001b[0;31m \u001b[0mtf\u001b[0m\u001b[0;34m.\u001b[0m\u001b[0mkeras\u001b[0m\u001b[0;34m.\u001b[0m\u001b[0mutils\u001b[0m\u001b[0;34m.\u001b[0m\u001b[0mplot_model\u001b[0m\u001b[0;34m(\u001b[0m\u001b[0mcnn_model\u001b[0m\u001b[0;34m,\u001b[0m \u001b[0mto_file\u001b[0m\u001b[0;34m=\u001b[0m\u001b[0;34m'model.png'\u001b[0m\u001b[0;34m,\u001b[0m \u001b[0mshow_shapes\u001b[0m\u001b[0;34m=\u001b[0m\u001b[0;32mTrue\u001b[0m\u001b[0;34m,\u001b[0m \u001b[0mshow_dtype\u001b[0m\u001b[0;34m=\u001b[0m\u001b[0;32mFalse\u001b[0m\u001b[0;34m,\u001b[0m\u001b[0mshow_layer_names\u001b[0m\u001b[0;34m=\u001b[0m\u001b[0;32mTrue\u001b[0m\u001b[0;34m,\u001b[0m \u001b[0mrankdir\u001b[0m\u001b[0;34m=\u001b[0m\u001b[0;34m'TB'\u001b[0m\u001b[0;34m,\u001b[0m \u001b[0mexpand_nested\u001b[0m\u001b[0;34m=\u001b[0m\u001b[0;32mFalse\u001b[0m\u001b[0;34m,\u001b[0m \u001b[0mdpi\u001b[0m\u001b[0;34m=\u001b[0m\u001b[0;36m72\u001b[0m\u001b[0;34m,\u001b[0m\u001b[0mlayer_range\u001b[0m\u001b[0;34m=\u001b[0m\u001b[0;32mNone\u001b[0m\u001b[0;34m,\u001b[0m \u001b[0mshow_layer_activations\u001b[0m\u001b[0;34m=\u001b[0m\u001b[0;32mFalse\u001b[0m\u001b[0;34m)\u001b[0m\u001b[0;34m\u001b[0m\u001b[0;34m\u001b[0m\u001b[0m\n\u001b[0m",
            "\u001b[0;31mNameError\u001b[0m: name 'tf' is not defined"
          ]
        }
      ]
    }
  ],
  "metadata": {
    "colab": {
      "provenance": [],
      "mount_file_id": "1OixbWZEUExoVb_2guXSoACPGLfLJfM_t",
      "authorship_tag": "ABX9TyPQqYzhf8wLL5p4H0YNmACg",
      "include_colab_link": true
    },
    "gpuClass": "standard",
    "kernelspec": {
      "display_name": "Python 3",
      "name": "python3"
    },
    "language_info": {
      "name": "python"
    }
  },
  "nbformat": 4,
  "nbformat_minor": 0
}